{
  "nbformat": 4,
  "nbformat_minor": 0,
  "metadata": {
    "colab": {
      "name": "Untitled2.ipynb",
      "provenance": [],
      "authorship_tag": "ABX9TyOdc0R0/vAt3Rnwnde65Zch",
      "include_colab_link": true
    },
    "kernelspec": {
      "name": "python3",
      "display_name": "Python 3"
    },
    "language_info": {
      "name": "python"
    }
  },
  "cells": [
    {
      "cell_type": "markdown",
      "metadata": {
        "id": "view-in-github",
        "colab_type": "text"
      },
      "source": [
        "<a href=\"https://colab.research.google.com/github/celwyn002/celwyn002/blob/main/Untitled2.ipynb\" target=\"_parent\"><img src=\"https://colab.research.google.com/assets/colab-badge.svg\" alt=\"Open In Colab\"/></a>"
      ]
    },
    {
      "cell_type": "code",
      "metadata": {
        "colab": {
          "base_uri": "https://localhost:8080/"
        },
        "id": "pZADdA11o83W",
        "outputId": "275ea255-4373-481c-f1af-97e8e632f29f"
      },
      "source": [
        "def sortScores():\n",
        "    scores=[]\n",
        "    for i in range(10): #read 10 scores\n",
        "      scores.append(int(input(\"Please enter score\"+str(i+1)+\" : \")))\n",
        "    for i in range(10): # loop 10 times\n",
        "       for j in range(i+1,10):\n",
        "           if(scores[i] > scores[j]): # apply order from lowest to highest \n",
        "              temp = scores[i]\n",
        "              scores[i] = scores[j]\n",
        "              scores[j] = temp \n",
        "    print(scores) # This will display the scores\n",
        "\n",
        "sortScores() #call a function"
      ],
      "execution_count": 22,
      "outputs": [
        {
          "output_type": "stream",
          "name": "stdout",
          "text": [
            "Please enter score1 : 10\n",
            "Please enter score2 : 20\n",
            "Please enter score3 : 30\n",
            "Please enter score4 : 40\n",
            "Please enter score5 : 50\n",
            "Please enter score6 : 60\n",
            "Please enter score7 : 70\n",
            "Please enter score8 : 80\n",
            "Please enter score9 : 90\n",
            "Please enter score10 : 100\n",
            "[10, 20, 30, 40, 50, 60, 70, 80, 90, 100]\n"
          ]
        }
      ]
    }
  ]
}