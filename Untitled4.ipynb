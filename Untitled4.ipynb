{
  "nbformat": 4,
  "nbformat_minor": 0,
  "metadata": {
    "colab": {
      "name": "Untitled4.ipynb",
      "provenance": [],
      "authorship_tag": "ABX9TyOuzmyHdpBqNPGr5J0SMarc",
      "include_colab_link": true
    },
    "kernelspec": {
      "name": "python3",
      "display_name": "Python 3"
    },
    "language_info": {
      "name": "python"
    }
  },
  "cells": [
    {
      "cell_type": "markdown",
      "metadata": {
        "id": "view-in-github",
        "colab_type": "text"
      },
      "source": [
        "<a href=\"https://colab.research.google.com/github/celwyn002/celwyn002/blob/main/Untitled4.ipynb\" target=\"_parent\"><img src=\"https://colab.research.google.com/assets/colab-badge.svg\" alt=\"Open In Colab\"/></a>"
      ]
    },
    {
      "cell_type": "code",
      "metadata": {
        "colab": {
          "base_uri": "https://localhost:8080/"
        },
        "id": "eOsaAGBbsvJq",
        "outputId": "3fff8f85-a011-4986-ff7f-d20089f15a31"
      },
      "source": [
        "print(\"Please input scores of Lab activity 1 to 10. \")\n",
        "print(\"Score of Lab activity 1 = \", end=\"\")\n",
        "Lab1 = int(input())\n",
        "print(\"Score of Lab activity 2 = \", end=\"\")\n",
        "Lab2 = int(input()) \n",
        "print(\"Score of Lab activity 3 = \", end=\"\")\n",
        "Lab3 = int(input())\n",
        "print(\"Score of Lab activity 4 = \", end=\"\")\n",
        "Lab4 = int(input())\n",
        "print(\"Score of Lab activity 5 = \", end=\"\")\n",
        "Lab5 = int(input())\n",
        "print(\"Score of Lab activity 6 = \", end=\"\")\n",
        "Lab6 = int(input())\n",
        "print(\"Score of Lab activity 7 = \", end=\"\")\n",
        "Lab7 = int(input())\n",
        "print(\"Score of Lab activity 8 = \", end=\"\")\n",
        "Lab8 = int(input())\n",
        "print(\"Score of Lab activity 9 = \", end=\"\")\n",
        "Lab9 = int(input())\n",
        "print(\"Score of Lab activity 10 = \", end=\"\")\n",
        "Lab10 = int(input())\n",
        "averageScore = (Lab1+Lab2+Lab3+Lab4+Lab5+Lab6+Lab7+Lab8+Lab9+Lab10)/10\n",
        "print(\"Prelim grade is:\" + str(averageScore))"
      ],
      "execution_count": null,
      "outputs": [
        {
          "output_type": "stream",
          "name": "stdout",
          "text": [
            "Please input scores of Lab activity 1 to 10. \n",
            "Score of Lab activity 1 = "
          ]
        }
      ]
    }
  ]
}